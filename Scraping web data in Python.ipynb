{
 "cells": [
  {
   "cell_type": "code",
   "execution_count": 28,
   "metadata": {},
   "outputs": [],
   "source": [
    "import requests\n",
    "from bs4 import BeautifulSoup\n",
    "import pandas as pd\n",
    "import re\n",
    "from nltk.tokenize import RegexpTokenizer\n",
    "\n",
    "# get the web linkn\n"
   ]
  },
  {
   "cell_type": "code",
   "execution_count": 5,
   "metadata": {},
   "outputs": [],
   "source": [
    "r=requests.get('https://www.menshealth.com/nutrition/a19541519/what-soda-does-to-your-body/')"
   ]
  },
  {
   "cell_type": "code",
   "execution_count": 8,
   "metadata": {},
   "outputs": [],
   "source": [
    "get_html_text=r.text"
   ]
  },
  {
   "cell_type": "code",
   "execution_count": 53,
   "metadata": {},
   "outputs": [
    {
     "data": {
      "text/plain": [
       "bs4.BeautifulSoup"
      ]
     },
     "execution_count": 53,
     "metadata": {},
     "output_type": "execute_result"
    }
   ],
   "source": [
    "soup=BeautifulSoup(get_html_text)\n",
    "pretty_soup=soup.prettify()\n",
    "#print(pretty_soup)\n",
    "#print(soup.get_text)\n",
    "#print('Good so far')\n",
    "soup.title\n",
    "type(soup)"
   ]
  },
  {
   "cell_type": "code",
   "execution_count": 20,
   "metadata": {},
   "outputs": [
    {
     "data": {
      "text/plain": [
       "[<a class=\"nav-button nav-sidepanel-button\" href=\"/sitemap/\" title=\"Navigation\">\\n<span class=\"icon icon-menu\"></span>\\n</a>]"
      ]
     },
     "execution_count": 20,
     "metadata": {},
     "output_type": "execute_result"
    }
   ],
   "source": [
    "soup.find_all('a')[:1]"
   ]
  },
  {
   "cell_type": "code",
   "execution_count": 23,
   "metadata": {},
   "outputs": [],
   "source": [
    "text=soup.get_text()\n"
   ]
  },
  {
   "cell_type": "code",
   "execution_count": 57,
   "metadata": {},
   "outputs": [
    {
     "name": "stdout",
     "output_type": "stream",
     "text": [
      "[nltk_data] Downloading package punkt to\n",
      "[nltk_data]     C:\\Users\\dell\\AppData\\Roaming\\nltk_data...\n",
      "[nltk_data]   Unzipping tokenizers\\punkt.zip.\n"
     ]
    },
    {
     "data": {
      "text/plain": [
       "True"
      ]
     },
     "execution_count": 57,
     "metadata": {},
     "output_type": "execute_result"
    }
   ],
   "source": [
    "from nltk.tokenize import sent_tokenize\n",
    "from nltk.tokenize import word_tokenize\n",
    "nltk.download('punkt')\n"
   ]
  },
  {
   "cell_type": "code",
   "execution_count": 61,
   "metadata": {},
   "outputs": [
    {
     "data": {
      "text/plain": [
       "list"
      ]
     },
     "execution_count": 61,
     "metadata": {},
     "output_type": "execute_result"
    }
   ],
   "source": [
    "#sentences=sent_tokenize(text)\n",
    "type(sentences)"
   ]
  },
  {
   "cell_type": "code",
   "execution_count": 62,
   "metadata": {},
   "outputs": [],
   "source": [
    "unique_set=set(word_tokenize(text))"
   ]
  },
  {
   "cell_type": "code",
   "execution_count": 63,
   "metadata": {},
   "outputs": [
    {
     "name": "stdout",
     "output_type": "stream",
     "text": [
      "set([u':1180', u'\\\\f11b', u'item.data.content_product_review.retailer_url', u'.content-lede-image-wrap', u'.location-right-side-panel', u'four', u':51.7', u'prefix', u'Does', u'.slideshow-slide', u':320', u'looking', u'item.sitename', u'-webkit-appearance', u'C.testAllProps=g', u'7514', u'item.data.media.lazy_embed_code', u'u=S.style.overflow', u'.marquee+.leaderboard-ad', u'channelName', u'S.offsetHeight', u'@', u'Grocery', u'hormone', u'fieldset', u'risk', u'xshort', u'.toLowerCase', u'0,0,0', u'data.searchLink', u'p.appendChild', u'list-style-type', u'=e.indexOf', u'.nav-bar', u'|Android|BlackBerry|IEMobile|Kindle|NetFront|Silk-Accelerated|', u'padding-right:2.5rem', u't=Modernizr._config.classPrefix||', u'n=n.baseVal', u'u=a.toUpperCase', u'content-indicator', u'.nav-bar-container', u'item.data.content_product_review.summary', u'gallerySuppressTitle', u'googleplus', u'recirculation-module-inner', u'this._l', u'.feed-list', u'hideMainAd', u'even', u'item.data.type', u'L.elem.style', u'+', u'-webkit-', u'S=n.documentElement', u'Interest-Based', u'Put', u'1rem', u'.location-choice.show', u'.simple-item-publish-date', u'item.sponsor.custom_label_long', u'men', u'data-vars-ga-product-id=', u'.affiliate-disclaimer.hidden', u'+r+', u'active', u'path', u'100', u'pancreas', u'e=', u'study', u'font-size:1em', u'credit', u',1===a.length', u'+a.toLowerCase', u'.icon-checkmark', u'NOW', u'Best', u'\\\\/\\\\/babou.hdmtools.com\\\\/api', u'text-rendering', u'//modernizr.com/download/', u'last-child', u'border-collapse', u'explained', u'.location-choice-country', u'playbuzz', u'visible', u'Health', u'.sponsored-marquee+.nav', u'hideFeedAds', u'WHO', u'font-size:13px', u'music', u'spike', u'ccc', u'calc', u'type', u'Diabetes', u'max-width:14rem', u'.inner', u'yahoo', u'99', u'Person', u'-ms-flex:0', u'line-height:1.45', u'.icon-recipe', u'95', u'padding-bottom:56.25', u'tablet-wide', u'contentCollectionName', u'_RULE', u'y.push', u'.top-pathing-label', u'ms', u'root', u'Standing', u'e.fake=', u'window.CURRENT_SITE', u'sourceMappingURL=https', u\"'youtube\", u'n=S.className', u'currency', u'product_review', u'tspan', u'padding-bottom', u'absolute', u'\\\\f120', u'\\\\f121', u'\\\\f122', u'\\\\f123', u'\\\\f124', u'\\\\f125', u'\\\\f126', u'\\\\f127', u'\\\\f128', u'\\\\f129', u'Journal', u'feature', u'how', u'top:3.375rem', u'.social-button-email.content-lede-image-social-button', u'inline-flex', u'l.href', u'A', u'mess', u'r=new', u'left:50', u'+i+', u'galleryId', u'pageType', u'L=', u'j=C._config.usePrefixes', u'All', u'.nav-button.nav-search-button', u'border-top:0', u'n.name', u'sans-serif', u'.5rem', u'\\\\f12a', u'\\\\f12b', u'\\\\f12c', u'\\\\f12d', u'\\\\f12e', u'\\\\f12f', u'enter', u'.aspect-ratio-8x1', u'picture.lazyimage.lazyloaded', u'order', u'n+t.toUpperCase', u'srcset.join', u'r+1', u'flex-direction', u'desktop-wide', u'\\\\u201cvisceral', u'.icon-loader', u'C.mq=T', u'.show-social', u'data-id=', u'info-container', u'//twitter.com/menshealthmag', u'before', u'.opinion-label', u'/figcaption', u'img', u'.feed-grid', u',', u'_q', u'production', u'hidden', u'eventually', u'd.getElementsByTagName', u'item.data.product.price', u'.sponsor.created-for', u'ct-unit', u'top:55', u't=', u'top:50', u':480', u'.ad-article-breaker-text', u'yourself', u'silver', u'.slideshow-slide-ad', u'1.01', u'_=', u'1.08', u'.standard-lede-image', u'l', u'presented-by', u'n.createElement.apply', u'affiliate', u'-100deg', u'255,255,255', u'.nav-submenu', u'font-size', u'k=C.prefixed=function', u':-moz-focus-inner', u'menshealth-en-us', u'list', u'i.id=', u'window.BABOU_URL', u'-ms-flex-negative:0', u'-ms-flex-negative:1', u':260', u'logo', u'Type', u'slew', u'+c', u'+e', u'+n', u'e.CSS', u'content', u'+r', u'content-type-icon', u'line-height:1', u'line-height:0', u'+u', u'+t', u'Below\\\\n\\\\t\\\\n\\\\nTo', u'Super', u'.icon-grid-view', u'linear', u'illnesses.But', u'free', u'standard', u'antialiased', u'//assets.hearstapps.com/sites/menshealth/assets/css/standard-article-mobile.055ec7f.css', u'adUnit', u'Egg', u'soundcloud', u'n.createElement', u'.aspect-ratio-16x9', u'starts', u'National', u'filter', u'padding:10px', u'-webkit-flex-direction', u'soda', u'U.S.\\\\u2014obesity', u'.content-info-byline', u'Holbrook', u'appId', u'Fight', u'will', u'guzzle', u'==typeof', u'another', u'line-height:2.5rem', u'font-size:1rem', u'padding-bottom:61.1111111111', u'feff02', u'.nav-logo', u'.social-button-googleplus.content-info-social-button', u'top', u'product.id', u'N=function', u'item.data.thumb.src', u'touchevents', u'glucose', u'display_id', u'Search', u'collapse', u'e||e.DocumentTouch', u'/li', u'relative', u'.content-info-social-button-group', u'.nav', u'Shots', u'//assets.hearstapps.com/sites/menshealth/assets/images/logos/logo-jsonld.17896d7.png', u'e=n.body', u'1881266141180626035', u'a=x', u'recirculation-module', u'keyword', u'Modernizr', u'Sex', u'e.length', u'a=f', u's.async', u'vertical-align', u\"'embed\", u'item.data.clickable_image_target', u'.desktop-only-video-fallback', u'seltzer', u'Modernizr._q.push', u'.25', u'Then', u'-', u'.social-button-icon', u'causing', u'.social-button-print.content-lede-image-social-button', u'.icon-avatar', u'Gallery', u'n=f', u'-webkit-animation:0s', u'Button', u'object', u'n=k', u'recirculation-content-indicator', u'border-box', u'HRST.contentTesting', u'.icon-quote', u'margin-right:2rem', u'_config', u'product-slide-details', u'm', u'max-width:75rem', u'points', u'a=s.split', u'd.addEventListener', u'n=_', u'sampleRate', u'That', u'dot', u'class=\\\\', u'Helvetica', u'font-face', u'.toUpperCase', u'inherit', u'selectedCrop', u'949494', u'data.title', u'ct-unit-heading', u'headline', u'menu', u'27b36d72-7cb0-4034-92fe-b8e1fa8ce18a', u'sugar', u'border-left', u'item.data.content_product_review.product_review.retailer.url', u'74968X1576254', u'canonicalUrl', u'10', u'-ms-high-contrast', u'\\\\f105', u'width:100', u'12', u'fadein', u'width:2.25', u'optgroup', u'Organization', u'height:0', u'woff2', u'17', u'||r', u'Over', u'a.id=o', u'bad', u'.icon-magnify', u'//assets.hearstapps.com/sites/menshealth/assets/fonts/IconFont.468dea8704a34288ec05d259b065dd4c.woff2', u'release', u'metadata', u':650', u'reference', u'habit', u'.social-button-facebook.content-info-social-button', u'margin-right:2.5rem', u'addTest', u'seems', u'03', u'.icon-linked-in', u'07', u'05', u'.standard-body', u'funnyordie', u'width:4.375rem', u'35465c', u'.icon-arrow-down01', u'.icon-arrow-down02', u'Form', u'S.className=n', u'we', u'i=i.join', u'monospace', u'width:100vw', u'.policy-bar', u'news', u'$', u'0s', u'2.5rem*2', u'tablet', u'1510085819', u'country', u'.icon-whatsapp', u'data-type=', u'and', u'source_site', u'vein', u'excess', u'height', u'max-height:2.5rem', u'Dating', u'speak', u'data.term', u'data.content.length', u'Sitting', u'margin-bottom:0', u'\\xa92018', u'been', u'.', u'n.createTextNode', u'C=', u'window.VARIANT_PUB', u'item.data.media', u'.top-pathing-item-wrap', u'dots', u'onblur', u'Georgia', u'.slide-image-credit', u'acceptedContentTypes', u'Below\\\\n\\\\t\\\\n\\\\nThis', u'd.appendChild', u'createdDate', u'.icon-facebook', u'commerce', u'item.data.content_product_review.brand', u'DocumentTouch', u'syndicateSiteOrigin', u'Manage', u'week\\u2014ups', u'n', u'cravings.Experts', u'font-weight:400', u'git.io/normalize', u'margin-left:0', u'Follow', u'seven', u'n=P.length', u'have', u'cd1f47e1-43d1-41b5-bc8d-60c4eb299a16', u'is', u'it', u'in', u'\\u2019', u'-webkit-filter', u'.3s', u'id', u'if', u'retailer_url', u'Gear', u'item.sponsor.custom_label_short', u'flex-start', u'suggest', u'make', u'item.data.product.name', u'e.addTest', u'Low-Fat', u'potentially', u'belly', u':-webkit-search-cancel-button', u'list-info', u'item.sponsor', u'i=', u'Institute', u'published', u'i=/Mobile|iP', u'.aggregate-count-number.show-count', u'CSSSupportsRule', u'border:1px', u'thumb_url', u'menshealth.stage.hearstapps.net', u'menshealth.feature.hearstapps.net', u'pointerevents', u'programs', u'e=e.toLowerCase', u'max-width:8.375rem', u'line-height:100', u'heartz', u'padding-bottom:0', u'11962', u'.image-copyright+.image-photo-credit', u'the', u'left', u'networkID', u'.sponsor-bar.sticky', u'just', u'||', u'-.25rem', u'babouUrl', u'clickable-image-product-link', u'.list-vertical-ad', u'body.sponsor.sponsorType', u'menshealth_us', u'previous', u'product.sem3_id', u'C._prefixes=x', u'Modernizr=new', u'ease', u'Privacy', u'item.image.srcset.length', u'potential', u'collections', u'font-size:2.125rem', u'News', u'has', u'font-size:11px', u'item.data.product.retailer.url', u'Heart', u'm=e', u'enableJSClass', u'networkTagLine', u'm=a', u'Content', u'item.data.product.product.brand', u'background', u'width:87', u'.custom-label', u'h=O.style', u'50', u'specific', u'n||', u'.nav-item', u'\\\\f114', u'people', u'\\\\/36117602\\\\/hdm-menshealth\\\\/nutrition\\\\/atf|m|300x250', u'.standard-rail', u'indexExchangeSiteId', u'+t+e.join', u'.938rem*2', u'for', u'bottom', u'recirculation-image', u'/', u'MNH', u'everything', u'data-href=', u'\\\\\\\\s|', u'.active.nav-menu', u'contentTopic', u'School', u'lazyimage', u'marketing', u'C._l=', u'Sans-serif', u'item.displaytype._attributes.title', u'/^-/', u'+r.join', u'Think', u'.opinion-disclaimer', u'there\\\\u2019s', u'data.length', u'window.PLAYER_URL', u'Cheap', u'o', u'//www.menshealth.com/nutrition/a19541519/what-soda-does-to-your-body/', u'i=0', u'Kidney', u'.grid-guide-col', u'Use', u'Make', u'float', u'-.0625rem', u'Occasional', u'right', u'-webkit-flex-shrink:0', u'-webkit-flex-shrink:1', u't=9===e.offsetTop', u'height:1.5rem', u'Nutrition', u'dropdown-menu-show', u'-webkit-flex-shrink:3.7', u'initial', u'transform', u'.nav-menu-social', u'way', u'health-fitness', u'was', u'href=', u't||n', u'vevo', u'-webkit-align-items', u'form', u'HRST.viewability', u'men.Your', u'z-index:5999997', u'z-index:5999995', u'Soda', u'true', u'220', u'rel=', u'HRST.datalayer', u'inside', u'mtv', u'padding-left:2.5rem', u\"'hide-brands\", u'o=x.length', u'20px', u'right:1.25rem', u'delete', u'max-width:7.25rem', u\"''\", u'.clearfix', u'.625em', u'check', u'stuff\\\\u2014typically', u'dotted', u'no', u'usePrefixes', u'Email', u'line-height:2.4rem', u'role', u'margin-left:1rem', u'data.url', u'SHOP', u'picture', u'product-slide-price', u'.push', u\"'s\", u'-2.5rem', u'Effective', u'destUrl', u'margin-top:0', u'center', u'diet', u'seekrIndexName', u'embedded-product-button-wrapper', u'.affiliate-disclaimer', u'.search-overlay', u'r,10', u'daily', u'n=', u'time', u'font-weight:700', u'.nav-swipeable', u'.sponsor+.item-title', u'sourceName', u'/video', u'themes', u'.show-subscribe', u'simple-item-sponsor', u'd.parentNode.removeChild', u'type=checkbox', u':4', u'googleAnalyticsSiteAccount', u'bottom:1.5625rem', u':0', u'Today', u'row', u'inline-block', u'Standard', u'environment', u'0', u'-.938rem', u'.content-header.sponsored-header', u'background-color', u'font-size:1.25rem', u'517fa4', u'string', u'li', u'minute', u'.icon-arrow-left01', u'p', u'defaults', u'z-index:1', u'div', u'i.appendChild', u'-webkit-backface-visibility', u'.nav-menu-item', u'recirculation-module-header', u'embed-related-content', u'-webkit-order:0', u'-webkit-order:2', u'-3.375rem', u'data-destUrl=', u'drinks', u'product-slide-brand', u'item.id+1', u'1.5625rem', u'lazyload-in-view', u'.price', u'max-width:10.9375rem', u'=h', u'a.byline-name', u'100,100,225', u'template', u'Webkit', u'boost', u'Wants', u'-100', u'12-ounce', u'.185,1', u'-ms-', u'item.data.content_product_review.retailer', u'target=', u'index-text', u'[', u'line-height:1.5', u'P=C._config.usePrefixes', u'e.call', u'ensightenDevScriptUrl', u's=e.charAt', u'_version', u'.social-button-email.content-info-social-button', u'-moz-', u'formerShareCount', u'studies', u'.content-info-social-buttons', u'.01em', u'love', u'100vw', u'extra', u'Meal', u'When', u'syndicatingSite', u'nowrap', u'src=', u'contentTesting', u'perk', u'item.image', u'Diet', u'stylesheet', u'https', u'Pack', u'editorially', u'``', u'Presented', u'Default', u'\\\\/\\\\/www.menshealth.com\\\\/nutrition\\\\/a19541519\\\\/what-soda-does-to-your-body\\\\/', u'srcset=', u'q=0', u'.slideshow-slide-ad.hidden', u'item.data.media.srcset', u':1018', u'recirc-editorial', u'can', u'iframe', u'r=t', u'-n+5', u'.icon-audio', u'//www.instagram.com/menshealthmag/', u'-n+2', u'-n+3', u'Media', u'Digital', u'dartzone', u'Boolean||', u'handle', u'skimlinksPublisherId', u'Pizza', u'Terms', u'.social-button-reddit.content-lede-image-social-button', u'Coke', u'*/html', u'-webkit-flex-grow:0', u'-webkit-flex-grow:1', u'1', u'immune', u'.recipe-breaker-ad.mobile-breaker-ad', u'Gain', u',0', u'begs', u'flavored', u'product', u'custom-label', u'License', u'may', u'3b5998', u'aol', u'figcaption', u'.icon-video', u'//glimmer.hearstapps.com/player.js', u'end', u'.desktop-only-video', u'.nav-title', u'outline', u'related-content-link', u'q', u'block', u'pulled', u'.social-button', u'.1s', u'.social-button-whatsapp.content-lede-image-social-button', u'font-weight:600', u'.hasOwnProperty', u'.social-button-line.content-info-social-button', u'years', u'fafafa', u'still', u'pointer', u'\\u201c', u't.length', u'.4rem', u'thumb', u'top_touts', u'data.image', u'Rail', u'Healthiest', u'.active.nav-submenu', u'www.menshealth.com', u'.sponsor-nav-inner.custom-label', u'Alisa', u'main', u'.icon-minus', u'sweetened', u'hideBreakerAds', u'6.62.0', u'Right', u'subSection', u'-o-', u'not', u'flex-end', u'1.004', u'term', u'x=C._config.usePrefixes', u'|Blazer|Dolfin|Dolphin|Skyfire|Zune/gi', u'name', u'.sponsor-nav-inner.provided-by', u'029082d9-417a-4396-8505-b1511ba18739', u'lede', u'ensightenDNTScriptUrl', u'High-Protein', u'em', u'sugary', u'domain', u'en', u'prompted', u'data-vars-ga-product-brand=', u'ct-unit-inner', u'data-vars-ga-product-price=', u'sponsor', u'year', u'contentTypeTitle', u'canvas', u'_.push', u'list-item', u'.location-choice.hide', u'increase', u'Article', u'-50vw', u'padding-right:0', u'after', u'+a.join', u'e+', u'Rights', u'.breaker-ad-text', u'.active.nav-menu-item', u'pumping', u'hulu', u'-ms-flex-pack', u'adCategory', u'-ms-flex:1', u'.sponsor-bar.custom-label', u'language', u'transition', u'calories', u'nofollow', u'.sponsor-nav-menu', u'thing', u's+', u'data.content', u'DOMContentLoaded', u'support', u'first', u'Even', u't=n', u'one', u'padding-left:0', u'.8', u'1s', u'url_path', u'.marquee+.nav', u'width', u'item-info-dek', u'participates', u'hmagglobal', u'n+=', u'recirculation-module-item', u'2', u'Suck', u'nutrition', u'releases', u'that', u'.nav.sticky+.nav-placeholder', u'border-bottom:0', u'padding', u'released', u'.ad-container', u'than', u'Inc.', u'+n+', u'11', u'.aspect-ratio-2x1', u'.3', u'15', u'thumbnails', u'type=submit', u'16', u'crop=0.636xw:1xh', u'86f5c56b-b6b1-4bbb-bb50-788f5d426c1f', u'r', u'desktop-max', u'were', u'class^=PIN_', u'Advertise', u'item.data.product.vendor', u'pre', u'.lazyloaded', u'20rem', u'head', u'S.className.baseVal=n', u'say', u'/span', u'.icon-play', u'\\u201d', u'Do', u'item.data.clickable_image_url', u'translate', u'aside', u'note', u'animation', u'take', u'\\\\/\\\\/krieger.hdmtools.com', u'switching', u'383838', u'padding-bottom:20', u'normal', u'Healthy', u'paid', u'.sponsor-inline', u'white-space', u'.content-header-inner', u']', u'what-soda-does-to-your-body', u'icon', u'p=l', u'textarea', u'font-kerning', u'average', u'later', u'sponsor-image', u'customLabelLong', u'Modernizr._trigger', u'.icon', u'link', u'item.data.content_product_review.call_to_action', u'transition-timing-function', u'ontouchstart', u'shop', u'type=radio', u'.sponsor-bar.longform-sponsor', u'e=Modernizr.hasEvent', u'.icon-clock', u'data', u'/h2', u'40px', u'Worse', u'title', u'.simple-item-parent-link', u'only', u'black', u'.icon-instagram', u':90', u'.recipe-breaker-ad', u'data.image.srcset', u'get', u'Modernizr._q.unshift', u':-webkit-outer-spin-button', u'left:0', u'.25s', u'item.data.dek.replace', u'.icon-quiz', u'.content-header.recipe-header', u'floods', u'.grid-guide', u'c++', u'summary', u'e0e0e0', u'socialUrl', u'babouVersion', u'HRST', u'data-vars-ga-outbound-link=', u'menshealth-auto-20', u'n.options.aliases', u'd=f', u'font-weight:900', u'.sponsor-bar.marquee-sponsor', u'fff', u'border-right:0', u'sugar-sweetened', u'ul', u'ways', u'review', u'sites', u'its', u'3', u'Than', u'classPrefix', u'editorial_source', u'screen', u'aspect-ratio-2x1', u'js', u'C._cssomPrefixes=j', u'.nav-swipeable-inner', u'article', u'21', u'Give', u'according', u'.nav-menu-link', u's', u'z.split', u'.icon-circle-plus', u'===S.nodeName.toLowerCase', u'cancer', u'color', u'66', u'dropdown-menu-hide', u'Listicle', u'poll', u'//assets.hearstapps.com/sites/menshealth/assets/css/standard-article.cdff4ac.css', u'adults', u'n.currentStyle', u'padding:16px', u'.sponsor-bar', u'min-width:40.625rem', u'\\\\/36117602\\\\/hdm-menshealth.amp\\\\/nutrition\\\\/btf|m|300x250', u'mark', u'body.image.selectedCrop', u'margin:0', u\"'hide-vendors\", u'grayscale', u'.item-image', u'customLabelShort', u'2016.That', u'A=function', u'border:0', u'height:100', u'e.constructor.prototype', u'outline:0', u'ogUrl', u'.4375rem', u'margin', u'max-width:9.375rem', u'kriegerUrl', u'.social-button-line.content-lede-image-social-button', u'then', u'//www.facebook.com/MensHealth', u's=e', u'.sponsor-bar.provided-by', u'padding-bottom:12.5', u'middle', u's=t', u'-webkit-text-size-adjust:100', u'Prep', u'includeLocalePath', u'different', u'contentPublishDate', u'author', u'Endocrine', u'media', u'sketchy', u'html', u'360deg', u'end-of-content-header', u'samp', u'/figure', u'dateModified', u's++', u'week', u':980', u'+P.join', u'min-width:48rem', u'fruit', u'//www.youtube.com/user/MensHealthMag/', u's=0', u'undefined', u'font-size:0', u'.content-lede-image-credit', u'without', u'.icon-search', u'data-gallery-id=', u\"'hide-pros-and-cons\", u'bodies', u'If', u'United', u'they', u'caffeine\\\\u2014we', u'style=', u'border-top', u'on.How', u'item.sponsor.type', u'-ms-inline-flexbox', u'contentTypeIcon', u'l.rel', u'00c300', u'desktop', u'Getty', u'4', u'width:2.5rem', u'.icon-globe', u'ca', u'.03em', u'instanceof', u'hover', u'.sponsor-bar.list-header-sponsor', u'type=number', u'.35em', u'flex-shrink:3.7', u'i++', u'.location-choice', u'Shop', u'O.modElem=f', u'contentId', u'Share', u'sponsor-label', u'.icon-link-out-arrow', u't', u'img.lazyimage', u':60', u'galleryHideProsAndCons', u'e94114', u'.content-info-social-button', u'.0625rem', u'12-Pack', u'Entertainment', u'-ms-flex-order:2', u'uppercase', u'-ms-flex-order:0', u'showIcons', u'.nav.sponsor-sticky+.nav-placeholder', u'parseInt', u'body.sponsor.sponsorImage', u'simple-item-image', u'search-overlay-autosuggest-link-type\\\\', u'images', u'.social-button-googleplus.content-lede-image-social-button', u'subChannelName', u'i=r', u'whitelistUrls', u'/https', u'Men', u'o=', u'i=f', u'.75', u'citrus', u'E-prints', u'Math.round', u'A-Z', u'_.hasOwnProperty', u'height:1.125rem', u'image-rendering', u'_', u'src', u'image-container', u'ol', u'displayTypeIcon', u'of', u'sponsor-inline', u'pointer-events', u'body.variant_url', u'n.setAttribute||', u'.25rem', u'Images', u'o=n.length', u'or', u'2016-04-21T18:18:44.392818Z', u'.slideshow-lede-image', u'Ads', u'image', u'.homepage', u'-ms-flex-positive:0', u'-ms-flex-positive:1', u'-ms-flex-positive:2', u'max-height', u'mobile-wide', u'.created-for', u'font-weight:800', u'your', u'Store', u'.replace', u'there', u'recirculation-module-image', u'start', u'rsid', u'.social-button-pinterest.content-info-social-button', u'italic', u'dd4b39', u'hpw|web', u'2016-01-23T03:19:08.924000Z', u'.embed', u'.grid-guide-row', u'universalID', u'Insomnia', u'.top-pathing-item.show-numbers', u'with', u'desktop-extra-wide', u'i.push', u'rush', u'ensightenGDPRScriptUrl', u'-.25em', u'default', u'r=', u'universalId', u'Society', u'pageUrl', u'.right-rail-ad', u'>', u'data.type', u'70eb5ce7-c3b8-4f1b-adce-c92c73899717', u'padding:0', u'e.push', u'S.style.overflow=', u'deep', u'an', u'How', u'max-width:100', u'lotameSiteId', u'.sponsor.custom-label', u'-20rem', u'//assets.hearstapps.com/sites/menshealth/assets/css/standard-article-critical.563b78d.css.map', u'Read', u'list-item-image-wrap', u'Win', u'.icon-subscribe-mobile', u'5', u'.aspect-ratio-freeform', u'you', u'At', u'opacity', u'.search-overlay-inner', u'v=e.length', u'.social-button-group', u'important', u'menshealth.article.19541519', u'Addiction', u'.nav-sponsor-label', u'a=', u'.icon-pinterest', u'.simple-item-dek', u'acids', u'Nutrition.\\\\n\\\\tAdvertisement', u'nsghtn=dev', u'width:20', u'.listicle-slide-list-ad', u'unset', u'.content-info.listicle-info', u'all', u'data.label.replace', u'.location-choice-icon', u'month', u'type=reset', u'disc', u't=this._l', u'+s', u'data-order=', u're', u'.social-button-link', u'data-tracking-label=', u'appVersion', u'.icon-comments', u'to', u'.icon-close01', u'padding-right', u'th', u'td', u'Eat', u'e.mq', u'comScoreId', u'sitting', u'very', u'fat', u'resistance', u'C._trigger=function', u'max-width:7.4rem', u'.oop-ad', u'.icon-collection', u'r=e.split', u'2018-05-25T16:21:17.804263Z', u'--', u'photoLocation', u'p.style.overflow=', u'250,250,250', u'large', u'these', u'-1', u'vimeo', u'small', u'icon-', u'.slideshow-leaderboard', u'data-related-id=', u'clickable-image-embed-item', u'padding-left', u'picture.lazyimage', u'instagram', u'\\\\f10f', u'skin', u'Actually', u'past', u'p.style.background=', u'Only', u'item.data.product.image.src', u'functioning', u'product-slide-vendor', u'min-width:73.75rem', u'.sponsor-bar.created-for', u'item.image.srcset.join', u'sub', u':1600', u'pinterest', u'section', u'n.fn', u'rgba', u'sup', u'.75em', u'Gift', u'tags', u'border-radius:1.25rem', u'item.sponsor.brand', u'.social-button-whatsapp.content-info-social-button', u'.social-button-instagram.content-lede-image-social-button', u'item-title', u'strong', u'legend', u'publisher', u'search', u'item.url', u'through', u'n.setAttribute', u'.nav.sticky', u'social', u'//nexus.ensighten.com/hearst/mag-dev/Bootstrap.js', u'~', u'options', u'.slideshow-list-ad', u'Style', u'align-items', u'0===e.indexOf', u'Top', u'.icon-rating-empty', u'.link-button', u'height:3.375rem', u'x.join', u'select', u'HRST.article', u'.icon-list', u'dartZone', u'Quizzes', u'contains', u'two', u'.nav.sticky.unsticky', u'6', u'\\\\n\\\\tAdvertisement', u'.social-button-twitter.content-lede-image-social-button', u'more', u'thumbnails-inner', u'36117602', u'knows', u'Depressed', u'.4s', u'g.length', u'American', u'item.data.product.action', u'i.test', u'-ms-flex-align', u'Better', u'none', u'.icon-arrow-left02', u'hour', u'.no-js', u'Modernizr._q', u'.opinion-label-text', u'week\\\\u2014ups', u'dev', u'content-box', u'dek', u'v', u'-ms-text-size-adjust:100', u'Your', u'top:100', u'KD2AYNrwYjrNCwZthxgElsAAkSgJhWPxx3FkmjgfPt0', u'flex-shrink:0', u'flex-shrink:1', u'no-logo', u'u=p', u'purchased', u'sense', u'Hearst', u'line-height:4.375rem', u'!', u'caption', u'margin-top:1.875rem', u'Cure', u'search-overlay-autosuggest-link', u'=typeof', u'.1875rem', u'.9375rem', u'w', u'simple-item', u'Reprints', u'Continue', u'n+4', u'blood', u'response', u'fn', u'a', u'short', u'-50', u'footer', u'created_at', u'/g', u'text-overflow', u'inline', u'i.type=', u'What', u'Arial', u'-2.5rem,0', u'.nav.sponsor-sticky.inactive', u'webmasterTools', u'disabled', u'document.createElement', u'y=', u'/a', u'.icon-expand-arrows', u'hell', u'visceral', u'MIT', u'.standard-article-breaker-ad.mobile-breaker-ad', u'cardiovascular', u'25', u'style', u'z.toLowerCase', u'20', u'forwards', u'ImageObject', u'data-vars-ga-product-sem3-id=', u'width:32', u'_.each', u'//krieger.hdmtools.com', u'arguments', u'border-radius', u'good', u'return', u'food', u'ff0', u'320px', u':-webkit-inner-spin-button', u'document', u'decimal', u'-.938rem,0', u':-webkit-search-decoration', u'c+', u'it\\\\u2019s', u'.sponsor-image', u'639px', u'found', u'margin:2.5rem', u'.sponsor-bar.presented-by', u'q++', u'everyone', u'End', u'padding-bottom:75', u'energy', u'created-for', u'\\\\/\\\\/www.menshealth.com\\\\/nutrition\\\\/amp19541519\\\\/what-soda-does-to-your-body\\\\/', u'Build', u'padding-top', u'Reading', u'.listicle-slide-list-ad.listicle-mobile-breaker-ad', u'More', u'item', u'since', u'.sponsor-nav-inner', u'.site-content', u'bottom:0', u'health', u'7', u'Report', u'issue', u'.nav.sticky.unsticky+.nav-placeholder', u'hone|od|ad', u'item.data.media.embed_type', u'font-size:2.5rem', u'playsinline', u'.aspect-ratio-18x11', u'setTimeout', u'S.style.overflow=u', u'_blank', u'People', u'.appendChild', u'top:0', u'Respect', u'data-vars-ga-product-sem3-brand=', u'major', u'slipped', u'U.S.\\u2014obesity', u'fancy', u'-pointerevents-touchevents-addtest-mq-prefixed-prefixedcss-setclasses', u'.feed-header', u'cups', u'.8125rem', u'AMP_2', u'.nav-placeholder', u'script', u'.listicle-lede-image', u'slides-inner', u'p.parentNode.removeChild', u'dfn', u'.nav-menu', u'mainEntityOfPage', u'T=function', u'd.createElement', u'font-size:2em', u'.icon-rating', u'n=n.replace', u'.breaker-ad', u'modifiedDate', u'authors', u'off', u'item.data.headline', u'/*', u'kind', u'b', u'Modernizr._config.enableClasses', u'endofcontent-image', u'.icon-author', u'3.3.1', u'-webkit-inline-flex', u'stall', u'e=a', u'Is', u'item.displayType', u'.simple-item-byline', u'Alzheimer\\\\u2019s', u'.transporter-breaker-ad', u'margin-left', u'null', u'organs', u'.3rem', u'stuff\\u2014typically', u'Diseases', u'margin-bottom', u'also', u'.02em', u'order:0', u'order:2', u'networkLogoPath', u'M', u'i.styleSheet', u'Communications', u'.icon-twitter', u'The', u'animation:0s', u'\\\\/36117602\\\\/hdm-menshealth\\\\/nutrition\\\\/breaker|m|300x250', u'ct-unit-image', u'5cbe4a', u'grams', u'mobile', u'clear', u'Subscriptions', u'C.prefixedCSS=function', u'Subscribe', u'Boolean', u'researchers', u'addAsyncTest', u'666', u'patty-menshealth.stage.hearstapps.net', u't=0', u'standard-article', u'brand-logo', u'font', u'.aspect-ratio-8x10', u'data-vars-ga-media-type=', u'type=button', u'impact', u'margin:1em', u'Modernizr=function', u'copyright', u'articleLength', u'.aspect-ratio-4x6', u'line-height:1.1', u'line-height:1.2', u'HRST.site', u'line-height:1.4', u'subsection', u'line-height:1.6', u'border-right', u'.social-button-pinterest.content-lede-image-social-button', u'font-size:1.3125rem', u'.slideshow-info.content-info', u\"'product_review\", u'border-bottom', u'.social-button-tumblr.content-info-social-button', u'.icon-arrow-up01', u'actions', u'closely', u'.icon-logo02', u'.icon-logo01', u'C.addTest=s', u'Help', u'\\\\\\\\/\\\\\\\\/assets\\\\\\\\.hearstapps\\\\\\\\.com/', u'910d8202-0458-4e54-bd65-04f3b395216a', u'.indexOf', u'.icon-article', u'touch-enabled', u'common', u'.content-info-inner', u'set', u'For', u'locale', u'cubic-bezier', u'vine', u'contentAuthor', u'data.feed.title', u'see', u'defense', u'are', u'o=Modernizr', u':710', u'item.data.dek', u'.social-button-print.content-info-social-button', u'#', u'.listicle-breaker-ad', u'muted', u'recirculation-module-item-title', u'galleryHideBrands', u'-ms-flex-order', u'Part', u'various', u'.click-to-play-button', u'abcvideo', u'window.SENTRY_OPTIONS', u'Kind', u'input-hide', u'site-name', u'item.data.src', u'.social-menu-button-group', u'.content-header', u'c=0', u'pointerdown', u'kaltura', u'Cures', u'cups.That', u'\\\\/36117602\\\\/hdm-menshealth.amp\\\\/nutrition\\\\/breaker|m|300x250', u'padding-bottom:150', u'both', u'c', u'last', u'data-vars-ga-call-to-action=', u'typeof', u'context', u'C.addAsyncTest', u'.icon-info', u'-webkit-justify-content', u'srcset.length', u'sweet', u'header', u'tracking-pixel', u'simply', u'Way', u'height:1rem', u'gallery-module', u'-webkit-font-smoothing', u'v3.0.2', u'Most', u'Ajay', u'California', u'Carb', u'-ms-flexbox', u'patty-menshealth.prod.hearstapps.net', u'empty', u'Women', u'width:0', u'border-radius:50', u'2014\\\\u2014and', u'39', u'else', u'e.apply', u'z-index', u'liver', u'.icon-googleplus', u'.nav-sponsor-image', u'Custom', u'.top-pathing-inner', u'solid', u'd356d068-f853-46af-bc8f-34872e30cbc3', u'amazonAffiliateCode', u'b00', u'while', u'item.data.content_product_review.product_review.product', u'==getComputedStyle', u'smart', u'O.style', u'text/css', u'loop', u'-webkit-animation', u'C.on=function', u'i.styleSheet.cssText=e', u'min-width:20rem', u'.item-title', u':0.5', u'Keto', u'ct-unit-image-container', u'font-size:1.063rem', u'max-width:5.625rem', u'2017-11-07T20:16:59Z', u'around', u'img.lazyimage.lazyloaded', u't===', u'baseline', u'window.lazySizesConfig.init', u'//schema.org', u'-webkit-flex', u'd.id=c', u'arteries.Drinking', u'cta', u'fatty', u'font-size:80', u'window.CURRENT_LOCALE', u'overweight', u'000', u'.social-button-twitter.content-info-social-button', u'.top-pathing-item', u'intestines', u'flex:1', u'flex:0', u'elem', u'.ad-at-bottom', u'Modernizr.prototype=C', u'box-sizing', u'margin-top', u'gallery-slide', u'+e.slice', u'y', u'gallery-list', u'.icon-share', u'list-style-position', u'list-product-slide-image', u'end-of-content-title', u'/-/g', u'selectedMedia', u'O=', u'.content-lede-image-social-button', u'Kit', u'.87', u'contentMediaId', u'.sponsor-logo-separator', u'min-width:45.5rem', u'data-vars-ga-product-sem3-category=', u'.mobile-slideshow', u'source', u'adiposity', u'ease-in-out', u'justify-content', u'input', u'On', u'translateX', u'translateY', u'format', u'big', u'img.click-to-play-animated', u'//www.pinterest.com/menshealthmag/', u'.content-lede-video.external-video', u'border-bottom:1px', u'w=r', u'.recipe-lede-image', u'text-align', u'data-srcset=', u'rotate', u'height:1.3rem', u'd', u'.8s', u'.icon-arrow-right02', u'.icon-arrow-right01', u'-.5em', u'product.brand', u'modernizr', u'img.click-to-play-animated.active', u'2014\\u2014and', u'.icon-lightbulb', u'b=', u'+n.toLowerCase', u'Condensed', u'scale', u'Modernizr.addTest', u'culprit', u'per', u'top:88px', u'tends', u'ellipsis', u'prod', u'.75rem', u'be', u'.close', u'O', u'Times', u'resize=100', u'S.appendChild', u'Bob', u'//nexus.ensighten.com/hearst/mag-gdpr/Bootstrap.js', u'by', u'n.options', u'shine', u'.split', u'modal', u'n.createElementNS.call', u'type=search', u'into', u'within', u'retailer', u'.2s', u'padding-bottom:50', u'Helps', u'padding-bottom:125', u'e.Modernizr=Modernizr', u'.*', u'data.image.srcset.length', u'span', u'question', u'//babou.hdmtools.com/api/v2', u'long', u'item.data.mediaId', u'.sponsor-bar.brand-logo', u'right:2.5rem', u'.sidepanel', u':', u'.4', u'.5', u'.7', u'n=e.matchMedia||e.msMatchMedia', u':11.8', u'/ul', u'//hips.hearstapps.com/hmg-prod.s3.amazonaws.com/images/701/p-1-soda-bottle-body-1510148239.jpg', u'Flu', u'serif', u'item-image', u'body.headline', u'Modernizr._q.length', u'line', u'.content-info-metadata', u'max-width:10rem', u'Africa', u'up', u'.375rem', u\"'re\", u'opacity:0', u'opacity:1', u'lazyload', u't=this', u'e.getComputedStyle', u'-webkit-min-device-pixel-ratio:0', u'associated', u'\\\\/36117602\\\\/hdm-menshealth.amp\\\\/nutrition\\\\/atf|m|300x250', u'data-vars-ga-ux-element=', u'C.hasEvent=A', u'globally', u'To', u'curb', u'patty-menshealth.feature.hearstapps.net', u'Map', u'%', u'May', u'body.sponsor.sponsorName', u'2139', u'occasional', u'nav', u'quizatious', u'1.25rem', u'.625rem', u'.15s', u'.icon-gallery', u'.icon-share02', u'October.According', u'Pounds', u'problems', u'n.name.toLowerCase', u'Thought', u'full-item-image', u'Technology', u'fructose', u'.aggregate-count-number', u'body.no-scroll', u'.social-button-reddit.content-info-social-button', u'||Modernizr', u'e', u'svg', u'youtube', u'item.contenttype._attributes.title', u'beverage', u'n=navigator.userAgent', u'Newsletter', u'.sponsor', u'tmz', u'min-height:2.625rem', u'code', u'/div', u'Harper', u'lowSlideCount', u'results', u'.aspect-ratio-original', u'datePublished', u'issues', u'Notice', u'.simple-item-index', u'.icon-reddit', u'min-width:0\\\\0', u'.nav.sponsor-sticky', u'.aspect-ratio-5x1', u'icxDomainId', u'min-height:7.5625rem', u'does', u'helps', u'commissions', u'hue-rotate', u\"'file\", u'Nov', u'e===n', u'outside', u'g=', u'P', u'.standard-article-breaker-ad', u'facebook', u'.content-info-date', u'drinking', u'Feeling', u'f.length', u'o=r', u'.98', u'urlPath', u'button', u'.97', u'.95', u'try', u'min-height:37.5rem', u'padding-bottom:33.3333333333', u'o=e', u'-ms-flex-preferred-size', u'Why', u'o=o', u'o=n', u'height=', u'concluded', u'n.options.aliases.length', u'\\\\u201d', u'//nexus.ensighten.com/hearst/mag-dnt/Bootstrap.js', u'Long', u'hgroup', u'e=f', u'video', u'index', u'networks', u'consistently', u'item.image.src', u'.marquee-sponsor-wrap+.feed-grid', u';', u'Barlow', u'body', u'e=0', u'Created', u'226,226,226', u'O.style=O.modElem.style', u'len', u'z=', u'others', u'max-width', u'.icon-menu', u'convert', u'data.image.srcset.join', u'data-vars-ga-total-positions=', u'30', u'36', u'width:66', u'products', u'insulin', u'you\\\\u2019re', u'{', u'.byline-name', u'//assets.hearstapps.com/sites/menshealth/assets/fonts/IconFont.468dea8704a34288ec05d259b065dd4c.woff', u'heart', u'.icon-print', u'.nav-menu-item.active', u'333', u'nth-child', u'.nav-menu-subscribe', u'from', u'figure', u'consumption', u'&', u'diabetes.Drinking', u'.vertical-ad', u'item.data.media.srcset.length', u'.nav-logo-centered', u'next', u'128455567236258', u'line-height:1.3', u'.sponsor-label', u'stage', u'E', u'.aspect-ratio-4x3', u'/1000', u'ampUrl', u'.social-button-tumblr.content-lede-image-social-button', u'on', u'.nav-button.nav-sidepanel-button', u'line-height:1.7', u'visibility', u'UA-55298526-9', u'data.image.src', u'Editorial', u'pfx', u'.icon-plus', u'//babou.hdmtools.com/api', u'e++', u'-3rem', u'f', u'this', u'.gdpr-requires-consent', u'.sponsor-nav-inner.brand-logo', u'input-show', u'product.retailers', u'Video', u'.icon-youtube', u'product.category', u'wedge', u'item.data.product.description', u'indulgence', u'links', u'297428', u'tax', u'-ms-flex-direction', u'high', u\"n't\", u'margin-bottom:1.25rem', u'min-width:18.75rem', u'.nav-sponsor-logo-separator', u'font-style', u'disease.The', u'margin:1.25rem', u'flex-basis', u'sit', u'IconFont', u'00aced', u'.transporter-vertical-ad', u'class=', u'-webkit-flex:1', u'-webkit-flex:0', u'Workouts', u'solidify', u'border-spacing:0', u'.content-hed', u'-moz-osx-font-smoothing', u'Disease', u'collection', u'.grid-header-sponsor+.grid-header-title', u'item.data.credit', u'Reserved', u'.list-breaker-ad', u'While', u'text-decoration', u'data-gallery-slide-count=', u'.longform-lede-image-credit', u'2.5rem', u'allow', u'font-size:1.125rem', u'p.fake', u'.simple-item-metadata', u'-webkit-flex-grow:2', u'.content-indicator', u'fizzy', u'kbd', u'report', u'item.data.clickable_image_nofollow', u'border-left:0', u'.social-button-facebook.content-lede-image-social-button', u'.content-info', u'window.STICKY_PLAYER_ENABLED', u'Body', u'spotify', u'chosen', u'.content-info.standard-info', u'item.hasOwnProperty', u'.content-lede-video', u'n,1==r.length', u'siteName', u'embeddedMedia', u'2018', u'2017', u'<', u'.social-button-youtube.content-info-social-button', u'flex', u'font-size:75', u'Customer', u'Advertisement', u'-moz-appearance', u'WebPage', u'auto', u'font-weight:500', u'Can', u'//nexus.ensighten.com/hearst/mag/Bootstrap.js', u'transparent', u'.social-button-instagram.content-info-social-button', u'item-info-title', u'item.data.product.brand', u'L.elem', u'slide', u':1200', u'10px', u'beneath', u'l=', u'text-transform', u'|', u'e.mobile', u'From', u'Preferences', u'bump', u'window.lazySizesConfig', u'end-of-content-simple-item', u'.recirculation-module', u'Next', u'.aspect-ratio-3x1', u'static', u'.content-info.recipe-info', u'Print', u'our', u'height:1.435rem', u'6035258', u'.nav-primary-menu', u'out', u'item.image.srcset', u'140', u\"'\", u'\\\\f11a', u'\\\\f11c', u'icxSiteId', u'\\\\f11e', u'\\\\f11d', u'\\\\f11f', u'photoNonInteraction', u'.standard-container', u'-webkit-transform', u'supports', u'Semi', u'This', u'.nav-button', u'product-headline', u'font-family', u'CSS', u'//www.w3.org/2000/svg', u'g', u'gallons', u'\\\\f119', u'\\\\f118', u'\\\\f111', u'\\\\f110', u'\\\\f113', u'\\\\f112', u'\\\\f115', u'height:4.375rem', u'\\\\f117', u'\\\\f116', u'.position', u'.curated-breaker', u'r=n.replace', u'OS|Fennec|Minimo|Opera', u'item.data.content_product_review.headline', u'0deg', u'data.feed.url', u'C.atRule=N', u'RegExp', u'.sponsor-nav-inner.presented-by', u'item.data.product.category', u'==t', u'data-src=', u'system', u'their', u'==n', u'19541519', u'E=C.testStyles=c', u'd.cookie.indexOf', u'Association', u'O.modElem', u'.sponsor-nav.active', u'-webkit-optimize-contrast', u':768', u'slides', u'.top-pathing', u'textfield', u'.icon-sign-out', u'===', u'.938rem', u\"'product\", u'provided-by', u'siteAssets/images/logos/network-logo.png', u'Edition', u'yieldmoId', u'steer', u'padding-bottom:66.6666666667', u'1.5', u'false', u'item.data.role', u'width:7rem', u'Other', u'38.5', u'need', u'//2db1fe908c734593b15029361071c2a4', u'border', u'linked', u'/i', u'no-js', u'which', u'=', u'kriegerVersion', u'who', u'*/', u'i=e.CSSRule', u'/iframe', u'max-width:6.25rem', u'gallery', u'top:9px', u'padding-bottom:100', u'_.escape', u'url', u'caffeine\\u2014we', u'disease', u'sponsorClass', u'}', u'Creepier', u'\\\\/\\\\/hips.hearstapps.com\\\\/hmg-prod.s3.amazonaws.com\\\\/images\\\\/701\\\\/p-1-soda-bottle-body-1510148239.jpg', u'=t', u'data-vars-ga-media-role=', u'no-', u'text', u'item.data.copyright', u'ct-unit-text-container', u'animation-hue-rotate', u'=o', u'=n', u'overflow', u'decade', u'Moz', u'\\\\/36117602\\\\/hdm-menshealth\\\\/nutrition\\\\/btf|m|300x250', u'e||', u'(', u'createDate', u'height:2.5rem', u'.listicle-breaker-ad.listicle-mobile-breaker-ad', u'controls', u'-webkit-keyframes', u'^|\\\\\\\\s', u'.sponsor-nav-inner.created-for', u'tabbed-modal', u'item.data.id', u'regularly', u'.simple-item-sponsor', u'move', u'contentType', u'means', u'==', u'woff', u'999', u'\\\\f135', u'publishDate', u'ff4500', u'Stories', u'abbr', u'Fitness', u'BPA', u'picture.click-to-play-animated', u'h', u'stuff', u'.78,0', u'Protein', u'fixed', u'line-height', u'g.shift', u'articleBody', u'list-image', u'officials', u'Coworkers', u'clickable-image-link', u'\\\\f138', u'width:1rem', u'.content-lede-image', u'acceptedDisplayTypes', u'Harvard', u'wean', u'progress', u'thumbnail', u'item.data.product.product.sem3_id', u'2px', u'beverages', u'i||r', u'.grid-guide-vert-inner', u'.icon-rating-half', u'.icon-comments02', u'thank', u'display', u':after', u'srcset', u'.content-dek', u'Modernizr.hasOwnProperty', u't++', u'.aspect-ratio-6x4', u'margin-right', u'table', u'product-btn-link', u'ce9851fb-c3a3-4b8b-8069-1f3d37f87dd9', u'list-product-slide-info', u'Hrustic', u'e.CSS.supports', u'window', u'quiz', u'Phone', u'\\\\f108', u'\\\\f109', u'window.SENTRY_DSN', u'ensightenScriptUrl', u'\\\\f102', u'\\\\f103', u'\\\\f101', u'\\\\f106', u'\\\\f107', u'\\\\f104', u'977cf6f9-2bd7-40a3-9b8a-aca1467c4fe6', u'font-size:1.875rem', u'-webkit-flex-basis', u'Bloated', u'right:0', u'c=', u'World', u'And', u'\\\\f10b', u'\\\\f10c', u'\\\\f10a', u'appearance', u'\\\\f10d', u'\\\\f10e', u'cursor', u'data.id', u'.875rem', u'margin-right:2', u'margin-right:0', u'letter-spacing', u'font-size:2.8125rem', u'site', u'keyframes', u'/^', u'examined', u'recirculation-module-feed-link', u'You', u'.social-button-youtube.content-lede-image-social-button', u'Product', u'n.documentElement', u'padding-top:0', u')', u'/^ms-/', u'margin-bottom:1.875rem', u'picture.click-to-play-animated.active', u'displayType', u'autoSocial', u'fill', u'/p', u'.transporter-simple-item', u'killer', u'http', u'Medical', u'drink', u'v2', u'overflow-x', u'width:1.5625rem', u'.sponsor-bar.sticky+.sponsor-bar-placeholder', u'+j.join', u'diabetes', u'.content-type-icon', u'outbrainWidgetIds', u'photoId', u'contentSource', u'i', u'ececec', u'sponsor-logo-separator', u'States', u'.icon-email', u's.src', u'.nav-secondary-menu', u'position', u'audio', u':61.4', u'autoplay', u't.matches||', u'galleryHideVendors', u'.125rem', u'.link', u'\\u2014', u'margin-top:1.25rem', u'.content-info.slideshow-info', u'Be', u'e.replace', u'day', u'data-vars-ga-position=', u'=new', u'By', u'kick', u'last-of-type', u'font-size:1.5rem', u'.3125rem', u'.leaderboard-ad', u'contentTitle', u'Below', u'five', u'flex-grow:2', u'flex-grow:0', u'flex-grow:1', u'like', u'.content-info-aggregate-count', u'h.parentNode.insertBefore', u'.icon-feature', u'Grooming', u'edit', u'Foods', u'c92228', u'recirculation-sponsor', u'full-on', u'.aspect-ratio-1x1', u'enableClasses', u'because', u'Loss', u'twitter', u'item.title', u'tumblr', u'a-z', u'recommendation', u'item.data.media.src', u'.sponsor-bar-inner', u'-ms-flex-negative:3.7', u'propertyName', u'item.data.product.show_price', u'-webkit-order', u'Digestive', u'Alzheimer', u'inflammation', u'?', u\"'video\", u'pressure', u'slug', u'hiding', u'about', u'width:33.3333333333', u'.ad-sticky', u'fre', u'Weight', u'ndn', u'siteAcronym', u'wordCount', u'US', u'carries', u'left:125', u'.content-info-byline-with-image', u'iconClass', u'obi|ini', u'h2', u'Tweet', u'h1', u'chronic', u'promise', u'min-width', u'.sponsor-bar-placeholder', u'syndicationRights', u'thumbnailUrl', u'sentry.io/109939', u'.byline', u'.join', u'*', u'.content-lede-loop', u'\\\\f13b', u'\\\\f13a', u'var', u'health.The', u'function', u'C._domPrefixes=P', u'hr', u'normalize.css', u'.sponsor-inline.feature-item-sponsor', u'.leaderboard-ad.transporter-ad', u'_.isUndefined', u'hdm-menshealth', u'.longform-social-buttons', u'.simple-item-image', u'\\\\f137', u'\\\\f136', u'.feed-header.sponsored-header', u'\\\\f134', u'\\\\f133', u'\\\\f132', u'\\\\f131', u'\\\\f130', u'cells', u'\\\\f139', u'input-add-button', u'z-index:9999999', u'n.removeAttribute', u'.collection-breaker', u'+t+', u'.sponsor-nav', u'Care', u'.click-to-play-animated.active+.click-to-play-button', u'.content-info-social-button.gdpr-requires-consent', u'hostnames', u'catch', u'2==r.length', u'MensHealthMag', u'data-role=', u'updated_at', u'data-tracking-id=', u'.nav-after', u'Containers', u'Modernizr._config.enableJSClass', u'ct-unit-title', u'Modernizr.mobile', u'ingredients', u'percent', u'width:50', u'font-size:2.75rem', u'other', u'.icon-tumblr', u'details', u'u', u'min-width:61.25rem', u'151.5', u'.longform-header', u'C.addTest', u'Lose', u'displayTypeTitle', u'N', u'South', u'end-of-content-inner', u'.image-credit', u'width=', u'Site', u'srcset.img', u'.content-info-byline-image', u'write', u'Sleep'])\n"
     ]
    }
   ],
   "source": [
    "#print(unique_set)"
   ]
  },
  {
   "cell_type": "code",
   "execution_count": 64,
   "metadata": {},
   "outputs": [],
   "source": [
    "tokeniser=RegexpTokenizer('\\w+')"
   ]
  },
  {
   "cell_type": "code",
   "execution_count": 52,
   "metadata": {},
   "outputs": [
    {
     "data": {
      "text/plain": [
       "unicode"
      ]
     },
     "execution_count": 52,
     "metadata": {},
     "output_type": "execute_result"
    }
   ],
   "source": [
    "tokens=tokeniser.tokenize(soup.text)\n",
    "# I would like to know the size of this list??\n",
    "type(soup.text)\n"
   ]
  },
  {
   "cell_type": "code",
   "execution_count": 32,
   "metadata": {},
   "outputs": [
    {
     "name": "stdout",
     "output_type": "stream",
     "text": [
      "[u'What', u'Soda']\n"
     ]
    }
   ],
   "source": [
    "print(tokens[:2])"
   ]
  },
  {
   "cell_type": "code",
   "execution_count": 40,
   "metadata": {},
   "outputs": [
    {
     "data": {
      "text/plain": [
       "[u'what', u'soda', u'does', u'to', u'your', u'body', u'men', u's']"
      ]
     },
     "execution_count": 40,
     "metadata": {},
     "output_type": "execute_result"
    }
   ],
   "source": [
    "# for sanity, we are going to convert all letters to small\n",
    "\n",
    "# Initialise a list\n",
    "words=[]\n",
    "\n",
    "# loop through list tokens and make tokens lower case\n",
    "\n",
    "for word in tokens:\n",
    "    words.append(word.lower())\n",
    "    \n",
    "\n",
    "words[:8]    "
   ]
  },
  {
   "cell_type": "code",
   "execution_count": 44,
   "metadata": {},
   "outputs": [
    {
     "name": "stdout",
     "output_type": "stream",
     "text": [
      "[nltk_data] Downloading package stopwords to\n",
      "[nltk_data]     C:\\Users\\dell\\AppData\\Roaming\\nltk_data...\n",
      "[nltk_data]   Unzipping corpora\\stopwords.zip.\n"
     ]
    },
    {
     "data": {
      "text/plain": [
       "True"
      ]
     },
     "execution_count": 44,
     "metadata": {},
     "output_type": "execute_result"
    }
   ],
   "source": [
    "import nltk\n",
    "nltk.download('stopwords')\n"
   ]
  },
  {
   "cell_type": "code",
   "execution_count": 45,
   "metadata": {},
   "outputs": [
    {
     "data": {
      "text/plain": [
       "[u'i',\n",
       " u'me',\n",
       " u'my',\n",
       " u'myself',\n",
       " u'we',\n",
       " u'our',\n",
       " u'ours',\n",
       " u'ourselves',\n",
       " u'you',\n",
       " u\"you're\"]"
      ]
     },
     "execution_count": 45,
     "metadata": {},
     "output_type": "execute_result"
    }
   ],
   "source": [
    "sw = nltk.corpus.stopwords.words('english')\n",
    "sw[:10]"
   ]
  },
  {
   "cell_type": "code",
   "execution_count": 46,
   "metadata": {},
   "outputs": [
    {
     "data": {
      "text/plain": [
       "[u'soda', u'body', u'men', u'health', u'clearfix']"
      ]
     },
     "execution_count": 46,
     "metadata": {},
     "output_type": "execute_result"
    }
   ],
   "source": [
    "# next, we want a list of all words that are in words but not in sw\n",
    "\n",
    "words_new=[]\n",
    "\n",
    "\n",
    "for word in words:\n",
    "    if word not in sw:\n",
    "        words_new.append(word)\n",
    "        \n",
    "words_new[:5]        "
   ]
  },
  {
   "cell_type": "code",
   "execution_count": 47,
   "metadata": {},
   "outputs": [],
   "source": [
    "# finally, lets create a frequency distribution\n",
    "import matplotlib.pyplot as plt\n",
    "import seaborn as sns "
   ]
  },
  {
   "cell_type": "code",
   "execution_count": 48,
   "metadata": {},
   "outputs": [
    {
     "data": {
      "image/png": "[encoded data removed]",
      "text/plain": [
       "<Figure size 432x288 with 1 Axes>"
      ]
     },
     "metadata": {},
     "output_type": "display_data"
    }
   ],
   "source": [
    "# figure inline and set visualisation style\n",
    "%matplotlib inline\n",
    "sns.set()\n",
    "\n",
    "# create a freq dist and plot\n",
    "freqDist1=nltk.FreqDist(words_new)\n",
    "freqDist1.plot(25)"
   ]
  },
  {
   "cell_type": "code",
   "execution_count": 51,
   "metadata": {},
   "outputs": [
    {
     "data": {
      "text/plain": [
       "list"
      ]
     },
     "execution_count": 51,
     "metadata": {},
     "output_type": "execute_result"
    }
   ],
   "source": [
    "digits=\"\\d+\"\n",
    "#print(re.findall(digits,words_new))\n",
    "type(words_new)\n",
    "# now because I can not use list with re, it tells me that we are supposed to use re before tokenisation"
   ]
  },
  {
   "cell_type": "code",
   "execution_count": null,
   "metadata": {},
   "outputs": [],
   "source": []
  }
 ],
 "metadata": {
  "kernelspec": {
   "display_name": "Python 2",
   "language": "python",
   "name": "python2"
  },
  "language_info": {
   "codemirror_mode": {
    "name": "ipython",
    "version": 2
   },
   "file_extension": ".py",
   "mimetype": "text/x-python",
   "name": "python",
   "nbconvert_exporter": "python",
   "pygments_lexer": "ipython2",
   "version": "2.7.15"
  }
 },
 "nbformat": 4,
 "nbformat_minor": 2
}
